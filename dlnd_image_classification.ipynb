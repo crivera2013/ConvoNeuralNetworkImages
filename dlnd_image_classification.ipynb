{
 "cells": [
  {
   "cell_type": "markdown",
   "metadata": {
    "collapsed": true
   },
   "source": [
    "# Image Classification\n",
    "In this project, you'll classify images from the [CIFAR-10 dataset](https://www.cs.toronto.edu/~kriz/cifar.html).  The dataset consists of airplanes, dogs, cats, and other objects. You'll preprocess the images, then train a convolutional neural network on all the samples. The images need to be normalized and the labels need to be one-hot encoded.  You'll get to apply what you learned and build a convolutional, max pooling, dropout, and fully connected layers.  At the end, you'll get to see your neural network's predictions on the sample images.\n",
    "## Get the Data\n",
    "Run the following cell to download the [CIFAR-10 dataset for python](https://www.cs.toronto.edu/~kriz/cifar-10-python.tar.gz)."
   ]
  },
  {
   "cell_type": "code",
   "execution_count": 1,
   "metadata": {
    "collapsed": false
   },
   "outputs": [
    {
     "name": "stdout",
     "output_type": "stream",
     "text": [
      "All files found!\n"
     ]
    }
   ],
   "source": [
    "\"\"\"\n",
    "DON'T MODIFY ANYTHING IN THIS CELL THAT IS BELOW THIS LINE\n",
    "\"\"\"\n",
    "from urllib.request import urlretrieve\n",
    "from os.path import isfile, isdir\n",
    "from tqdm import tqdm\n",
    "import problem_unittests as tests\n",
    "import tarfile\n",
    "\n",
    "cifar10_dataset_folder_path = 'cifar-10-batches-py'\n",
    "\n",
    "# Use Floyd's cifar-10 dataset if present\n",
    "floyd_cifar10_location = '/input/cifar-10/python.tar.gz'\n",
    "if isfile(floyd_cifar10_location):\n",
    "    tar_gz_path = floyd_cifar10_location\n",
    "else:\n",
    "    tar_gz_path = 'cifar-10-python.tar.gz'\n",
    "\n",
    "class DLProgress(tqdm):\n",
    "    last_block = 0\n",
    "\n",
    "    def hook(self, block_num=1, block_size=1, total_size=None):\n",
    "        self.total = total_size\n",
    "        self.update((block_num - self.last_block) * block_size)\n",
    "        self.last_block = block_num\n",
    "\n",
    "if not isfile(tar_gz_path):\n",
    "    with DLProgress(unit='B', unit_scale=True, miniters=1, desc='CIFAR-10 Dataset') as pbar:\n",
    "        urlretrieve(\n",
    "            'https://www.cs.toronto.edu/~kriz/cifar-10-python.tar.gz',\n",
    "            tar_gz_path,\n",
    "            pbar.hook)\n",
    "\n",
    "if not isdir(cifar10_dataset_folder_path):\n",
    "    with tarfile.open(tar_gz_path) as tar:\n",
    "        tar.extractall()\n",
    "        tar.close()\n",
    "\n",
    "\n",
    "tests.test_folder_path(cifar10_dataset_folder_path)"
   ]
  },
  {
   "cell_type": "markdown",
   "metadata": {},
   "source": [
    "## Explore the Data\n",
    "The dataset is broken into batches to prevent your machine from running out of memory.  The CIFAR-10 dataset consists of 5 batches, named `data_batch_1`, `data_batch_2`, etc.. Each batch contains the labels and images that are one of the following:\n",
    "* airplane\n",
    "* automobile\n",
    "* bird\n",
    "* cat\n",
    "* deer\n",
    "* dog\n",
    "* frog\n",
    "* horse\n",
    "* ship\n",
    "* truck\n",
    "\n",
    "Understanding a dataset is part of making predictions on the data.  Play around with the code cell below by changing the `batch_id` and `sample_id`. The `batch_id` is the id for a batch (1-5). The `sample_id` is the id for a image and label pair in the batch.\n",
    "\n",
    "Ask yourself \"What are all possible labels?\", \"What is the range of values for the image data?\", \"Are the labels in order or random?\".  Answers to questions like these will help you preprocess the data and end up with better predictions."
   ]
  },
  {
   "cell_type": "code",
   "execution_count": 2,
   "metadata": {
    "collapsed": false
   },
   "outputs": [
    {
     "name": "stdout",
     "output_type": "stream",
     "text": [
      "\n",
      "Stats of batch 1:\n",
      "Samples: 10000\n",
      "Label Counts: {0: 1005, 1: 974, 2: 1032, 3: 1016, 4: 999, 5: 937, 6: 1030, 7: 1001, 8: 1025, 9: 981}\n",
      "First 20 Labels: [6, 9, 9, 4, 1, 1, 2, 7, 8, 3, 4, 7, 7, 2, 9, 9, 9, 3, 2, 6]\n",
      "\n",
      "Example of Image 5:\n",
      "Image - Min Value: 0 Max Value: 252\n",
      "Image - Shape: (32, 32, 3)\n",
      "Label - Label Id: 1 Name: automobile\n"
     ]
    },
    {
     "data": {
      "image/png": "[encoded data removed]",
      "text/plain": [
       "<matplotlib.figure.Figure at 0x1e167c03438>"
      ]
     },
     "metadata": {
      "image/png": {
       "height": 250,
       "width": 253
      }
     },
     "output_type": "display_data"
    }
   ],
   "source": [
    "%matplotlib inline\n",
    "%config InlineBackend.figure_format = 'retina'\n",
    "\n",
    "import helper\n",
    "import numpy as np\n",
    "\n",
    "# Explore the dataset\n",
    "batch_id = 1\n",
    "sample_id = 5\n",
    "helper.display_stats(cifar10_dataset_folder_path, batch_id, sample_id)"
   ]
  },
  {
   "cell_type": "markdown",
   "metadata": {},
   "source": [
    "## Implement Preprocess Functions\n",
    "### Normalize\n",
    "In the cell below, implement the `normalize` function to take in image data, `x`, and return it as a normalized Numpy array. The values should be in the range of 0 to 1, inclusive.  The return object should be the same shape as `x`."
   ]
  },
  {
   "cell_type": "code",
   "execution_count": 3,
   "metadata": {
    "collapsed": false
   },
   "outputs": [
    {
     "name": "stdout",
     "output_type": "stream",
     "text": [
      "Tests Passed\n"
     ]
    }
   ],
   "source": [
    "def normalize(x):\n",
    "    \"\"\"\n",
    "    Normalize a list of sample image data in the range of 0 to 1\n",
    "    : x: List of image data.  The image shape is (32, 32, 3)\n",
    "    : return: Numpy array of normalize data\n",
    "    \"\"\"\n",
    "    # TODO: Implement Function\n",
    "    # color range of r,g,b is 0-255\n",
    "    # normalization is thus the original value / 255\n",
    "    # f(x) = x/255\n",
    "    normalized = x / 255\n",
    "    return normalized\n",
    "\n",
    "\n",
    "\"\"\"\n",
    "DON'T MODIFY ANYTHING IN THIS CELL THAT IS BELOW THIS LINE\n",
    "\"\"\"\n",
    "tests.test_normalize(normalize)"
   ]
  },
  {
   "cell_type": "markdown",
   "metadata": {},
   "source": [
    "### One-hot encode\n",
    "Just like the previous code cell, you'll be implementing a function for preprocessing.  This time, you'll implement the `one_hot_encode` function. The input, `x`, are a list of labels.  Implement the function to return the list of labels as One-Hot encoded Numpy array.  The possible values for labels are 0 to 9. The one-hot encoding function should return the same encoding for each value between each call to `one_hot_encode`.  Make sure to save the map of encodings outside the function.\n",
    "\n",
    "Hint: Don't reinvent the wheel."
   ]
  },
  {
   "cell_type": "code",
   "execution_count": 4,
   "metadata": {
    "collapsed": false
   },
   "outputs": [
    {
     "name": "stdout",
     "output_type": "stream",
     "text": [
      "Tests Passed\n"
     ]
    }
   ],
   "source": [
    "def one_hot_encode(x):\n",
    "    \"\"\"\n",
    "    One hot encode a list of sample labels. Return a one-hot encoded vector for each label.\n",
    "    : x: List of sample Labels\n",
    "    : return: Numpy array of one-hot encoded labels\n",
    "    \"\"\"\n",
    "    # TODO: Implement Function\\\n",
    "    # there are ten labels\n",
    "    # create a vector of 0s\n",
    "    output_vector = np.zeros([len(x), 10])\n",
    "    for i, input_label in enumerate(x):\n",
    "        output_vector[i,input_label] = 1\n",
    "    return output_vector\n",
    "\n",
    "\n",
    "\"\"\"\n",
    "DON'T MODIFY ANYTHING IN THIS CELL THAT IS BELOW THIS LINE\n",
    "\"\"\"\n",
    "tests.test_one_hot_encode(one_hot_encode)"
   ]
  },
  {
   "cell_type": "markdown",
   "metadata": {},
   "source": [
    "### Randomize Data\n",
    "As you saw from exploring the data above, the order of the samples are randomized.  It doesn't hurt to randomize it again, but you don't need to for this dataset."
   ]
  },
  {
   "cell_type": "markdown",
   "metadata": {},
   "source": [
    "## Preprocess all the data and save it\n",
    "Running the code cell below will preprocess all the CIFAR-10 data and save it to file. The code below also uses 10% of the training data for validation."
   ]
  },
  {
   "cell_type": "code",
   "execution_count": 5,
   "metadata": {
    "collapsed": false
   },
   "outputs": [],
   "source": [
    "\"\"\"\n",
    "DON'T MODIFY ANYTHING IN THIS CELL\n",
    "\"\"\"\n",
    "# Preprocess Training, Validation, and Testing Data\n",
    "helper.preprocess_and_save_data(cifar10_dataset_folder_path, normalize, one_hot_encode)"
   ]
  },
  {
   "cell_type": "markdown",
   "metadata": {},
   "source": [
    "# Check Point\n",
    "This is your first checkpoint.  If you ever decide to come back to this notebook or have to restart the notebook, you can start from here.  The preprocessed data has been saved to disk."
   ]
  },
  {
   "cell_type": "code",
   "execution_count": 6,
   "metadata": {
    "collapsed": true
   },
   "outputs": [],
   "source": [
    "\"\"\"\n",
    "DON'T MODIFY ANYTHING IN THIS CELL\n",
    "\"\"\"\n",
    "import pickle\n",
    "import problem_unittests as tests\n",
    "import helper\n",
    "\n",
    "# Load the Preprocessed Validation data\n",
    "valid_features, valid_labels = pickle.load(open('preprocess_validation.p', mode='rb'))"
   ]
  },
  {
   "cell_type": "markdown",
   "metadata": {},
   "source": [
    "## Build the network\n",
    "For the neural network, you'll build each layer into a function.  Most of the code you've seen has been outside of functions. To test your code more thoroughly, we require that you put each layer in a function.  This allows us to give you better feedback and test for simple mistakes using our unittests before you submit your project.\n",
    "\n",
    ">**Note:** If you're finding it hard to dedicate enough time for this course each week, we've provided a small shortcut to this part of the project. In the next couple of problems, you'll have the option to use classes from the [TensorFlow Layers](https://www.tensorflow.org/api_docs/python/tf/layers) or [TensorFlow Layers (contrib)](https://www.tensorflow.org/api_guides/python/contrib.layers) packages to build each layer, except the layers you build in the \"Convolutional and Max Pooling Layer\" section.  TF Layers is similar to Keras's and TFLearn's abstraction to layers, so it's easy to pickup.\n",
    "\n",
    ">However, if you would like to get the most out of this course, try to solve all the problems _without_ using anything from the TF Layers packages. You **can** still use classes from other packages that happen to have the same name as ones you find in TF Layers! For example, instead of using the TF Layers version of the `conv2d` class, [tf.layers.conv2d](https://www.tensorflow.org/api_docs/python/tf/layers/conv2d), you would want to use the TF Neural Network version of `conv2d`, [tf.nn.conv2d](https://www.tensorflow.org/api_docs/python/tf/nn/conv2d). \n",
    "\n",
    "Let's begin!\n",
    "\n",
    "### Input\n",
    "The neural network needs to read the image data, one-hot encoded labels, and dropout keep probability. Implement the following functions\n",
    "* Implement `neural_net_image_input`\n",
    " * Return a [TF Placeholder](https://www.tensorflow.org/api_docs/python/tf/placeholder)\n",
    " * Set the shape using `image_shape` with batch size set to `None`.\n",
    " * Name the TensorFlow placeholder \"x\" using the TensorFlow `name` parameter in the [TF Placeholder](https://www.tensorflow.org/api_docs/python/tf/placeholder).\n",
    "* Implement `neural_net_label_input`\n",
    " * Return a [TF Placeholder](https://www.tensorflow.org/api_docs/python/tf/placeholder)\n",
    " * Set the shape using `n_classes` with batch size set to `None`.\n",
    " * Name the TensorFlow placeholder \"y\" using the TensorFlow `name` parameter in the [TF Placeholder](https://www.tensorflow.org/api_docs/python/tf/placeholder).\n",
    "* Implement `neural_net_keep_prob_input`\n",
    " * Return a [TF Placeholder](https://www.tensorflow.org/api_docs/python/tf/placeholder) for dropout keep probability.\n",
    " * Name the TensorFlow placeholder \"keep_prob\" using the TensorFlow `name` parameter in the [TF Placeholder](https://www.tensorflow.org/api_docs/python/tf/placeholder).\n",
    "\n",
    "These names will be used at the end of the project to load your saved model.\n",
    "\n",
    "Note: `None` for shapes in TensorFlow allow for a dynamic size."
   ]
  },
  {
   "cell_type": "code",
   "execution_count": 7,
   "metadata": {
    "collapsed": false
   },
   "outputs": [
    {
     "name": "stdout",
     "output_type": "stream",
     "text": [
      "Image Input Tests Passed.\n",
      "Label Input Tests Passed.\n",
      "Keep Prob Tests Passed.\n"
     ]
    }
   ],
   "source": [
    "import tensorflow as tf\n",
    "\n",
    "def neural_net_image_input(image_shape):\n",
    "    \"\"\"\n",
    "    Return a Tensor for a batch of image input\n",
    "    : image_shape: Shape of the images\n",
    "    : return: Tensor for image input.\n",
    "    \"\"\"\n",
    "    # TODO: Implement Function\n",
    "    \n",
    "    return tf.placeholder(tf.float32,(None, image_shape[0],\n",
    "                                      image_shape[1],\n",
    "                                      image_shape[2]),\n",
    "                          name='x' )\n",
    "\n",
    "\n",
    "def neural_net_label_input(n_classes):\n",
    "    \"\"\"\n",
    "    Return a Tensor for a batch of label input\n",
    "    : n_classes: Number of classes\n",
    "    : return: Tensor for label input.\n",
    "    \"\"\"\n",
    "    # TODO: Implement Function\n",
    "    shape = [None, n_classes]\n",
    "    return tf.placeholder(tf.float32, shape=shape, name='y')\n",
    "\n",
    "\n",
    "def neural_net_keep_prob_input():\n",
    "    \"\"\"\n",
    "    Return a Tensor for keep probability\n",
    "    : return: Tensor for keep probability.\n",
    "    \"\"\"\n",
    "    # TODO: Implement Function\n",
    "    return tf.placeholder(tf.float32, name= 'keep_prob')\n",
    "\n",
    "\n",
    "\"\"\"\n",
    "DON'T MODIFY ANYTHING IN THIS CELL THAT IS BELOW THIS LINE\n",
    "\"\"\"\n",
    "tf.reset_default_graph()\n",
    "tests.test_nn_image_inputs(neural_net_image_input)\n",
    "tests.test_nn_label_inputs(neural_net_label_input)\n",
    "tests.test_nn_keep_prob_inputs(neural_net_keep_prob_input)"
   ]
  },
  {
   "cell_type": "markdown",
   "metadata": {},
   "source": [
    "### Convolution and Max Pooling Layer\n",
    "Convolution layers have a lot of success with images. For this code cell, you should implement the function `conv2d_maxpool` to apply convolution then max pooling:\n",
    "* Create the weight and bias using `conv_ksize`, `conv_num_outputs` and the shape of `x_tensor`.\n",
    "* Apply a convolution to `x_tensor` using weight and `conv_strides`.\n",
    " * We recommend you use same padding, but you're welcome to use any padding.\n",
    "* Add bias\n",
    "* Add a nonlinear activation to the convolution.\n",
    "* Apply Max Pooling using `pool_ksize` and `pool_strides`.\n",
    " * We recommend you use same padding, but you're welcome to use any padding.\n",
    "\n",
    "**Note:** You **can't** use [TensorFlow Layers](https://www.tensorflow.org/api_docs/python/tf/layers) or [TensorFlow Layers (contrib)](https://www.tensorflow.org/api_guides/python/contrib.layers) for **this** layer, but you can still use TensorFlow's [Neural Network](https://www.tensorflow.org/api_docs/python/tf/nn) package. You may still use the shortcut option for all the **other** layers."
   ]
  },
  {
   "cell_type": "code",
   "execution_count": 8,
   "metadata": {
    "collapsed": false
   },
   "outputs": [
    {
     "name": "stdout",
     "output_type": "stream",
     "text": [
      "Tests Passed\n"
     ]
    }
   ],
   "source": [
    "def conv2d_maxpool(x_tensor, conv_num_outputs, conv_ksize, conv_strides, pool_ksize, pool_strides):\n",
    "    \"\"\"\n",
    "    Apply convolution then max pooling to x_tensor\n",
    "    :param x_tensor: TensorFlow Tensor\n",
    "    :param conv_num_outputs: Number of outputs for the convolutional layer\n",
    "    :param conv_ksize: kernal size 2-D Tuple for the convolutional layer\n",
    "    :param conv_strides: Stride 2-D Tuple for convolution\n",
    "    :param pool_ksize: kernal size 2-D Tuple for pool\n",
    "    :param pool_strides: Stride 2-D Tuple for pool\n",
    "    : return: A tensor that represents convolution and max pooling of x_tensor\n",
    "    \"\"\"\n",
    "    # TODO: Implement Function\n",
    "    \n",
    "    \n",
    "    batch_size, input_width, input_height, input_depth = x_tensor.shape\n",
    "    \n",
    "    weights = tf.Variable(tf.truncated_normal([conv_ksize[0],\n",
    "                                               conv_ksize[1],\n",
    "                                               input_depth.value,\n",
    "                                               conv_num_outputs]))\n",
    "    \n",
    "    biases = tf.Variable(tf.truncated_normal([conv_num_outputs]))\n",
    "    \n",
    "    #input -> conv + bias -> relu -> maxpool\n",
    "    conv_layer = tf.nn.conv2d(x_tensor,\n",
    "                              weights,\n",
    "                              strides=[1,conv_strides[0], conv_strides[1], 1],\n",
    "                              padding='SAME')\n",
    "    \n",
    "    conv_layer = tf.nn.bias_add(conv_layer, biases)\n",
    "    \n",
    "    #relu layer\n",
    "    conv_layer = tf.nn.relu(conv_layer)\n",
    "    \n",
    "    #maxpool layer\n",
    "    conv_layer = tf.nn.max_pool(conv_layer,\n",
    "                                ksize=[1, pool_ksize[0], pool_ksize[1], 1],\n",
    "                                strides=[1, pool_strides[0], pool_strides[1], 1],\n",
    "                                padding='SAME')\n",
    "    \n",
    "    return conv_layer \n",
    "\n",
    "\n",
    "\"\"\"\n",
    "DON'T MODIFY ANYTHING IN THIS CELL THAT IS BELOW THIS LINE\n",
    "\"\"\"\n",
    "tests.test_con_pool(conv2d_maxpool)"
   ]
  },
  {
   "cell_type": "markdown",
   "metadata": {},
   "source": [
    "### Flatten Layer\n",
    "Implement the `flatten` function to change the dimension of `x_tensor` from a 4-D tensor to a 2-D tensor.  The output should be the shape (*Batch Size*, *Flattened Image Size*). Shortcut option: you can use classes from the [TensorFlow Layers](https://www.tensorflow.org/api_docs/python/tf/layers) or [TensorFlow Layers (contrib)](https://www.tensorflow.org/api_guides/python/contrib.layers) packages for this layer. For more of a challenge, only use other TensorFlow packages."
   ]
  },
  {
   "cell_type": "code",
   "execution_count": 9,
   "metadata": {
    "collapsed": false
   },
   "outputs": [
    {
     "name": "stdout",
     "output_type": "stream",
     "text": [
      "Tests Passed\n"
     ]
    }
   ],
   "source": [
    "def flatten(x_tensor):\n",
    "    \"\"\"\n",
    "    Flatten x_tensor to (Batch Size, Flattened Image Size)\n",
    "    : x_tensor: A tensor of size (Batch Size, ...), where ... are the image dimensions.\n",
    "    : return: A tensor of size (Batch Size, Flattened Image Size).\n",
    "    \"\"\"\n",
    "    # TODO: Implement Function\n",
    "    flattened = tf.contrib.layers.flatten(x_tensor)\n",
    "    return flattened\n",
    "\n",
    "\n",
    "\"\"\"\n",
    "DON'T MODIFY ANYTHING IN THIS CELL THAT IS BELOW THIS LINE\n",
    "\"\"\"\n",
    "tests.test_flatten(flatten)"
   ]
  },
  {
   "cell_type": "markdown",
   "metadata": {},
   "source": [
    "### Fully-Connected Layer\n",
    "Implement the `fully_conn` function to apply a fully connected layer to `x_tensor` with the shape (*Batch Size*, *num_outputs*). Shortcut option: you can use classes from the [TensorFlow Layers](https://www.tensorflow.org/api_docs/python/tf/layers) or [TensorFlow Layers (contrib)](https://www.tensorflow.org/api_guides/python/contrib.layers) packages for this layer. For more of a challenge, only use other TensorFlow packages."
   ]
  },
  {
   "cell_type": "code",
   "execution_count": 17,
   "metadata": {
    "collapsed": false
   },
   "outputs": [
    {
     "name": "stdout",
     "output_type": "stream",
     "text": [
      "Tests Passed\n"
     ]
    }
   ],
   "source": [
    "def fully_conn(x_tensor, num_outputs):\n",
    "    \"\"\"\n",
    "    Apply a fully connected layer to x_tensor using weight and bias\n",
    "    : x_tensor: A 2-D tensor where the first dimension is batch size.\n",
    "    : num_outputs: The number of output that the new tensor should be.\n",
    "    : return: A 2-D tensor where the second dimension is num_outputs.\n",
    "    \"\"\"\n",
    "    # TODO: Implement Function\n",
    "    fully_connected = tf.contrib.layers.fully_connected(x_tensor, \n",
    "                                                        num_outputs)\n",
    "    return fully_connected\n",
    "\n",
    "\n",
    "\"\"\"\n",
    "DON'T MODIFY ANYTHING IN THIS CELL THAT IS BELOW THIS LINE\n",
    "\"\"\"\n",
    "tests.test_fully_conn(fully_conn)"
   ]
  },
  {
   "cell_type": "markdown",
   "metadata": {},
   "source": [
    "### Output Layer\n",
    "Implement the `output` function to apply a fully connected layer to `x_tensor` with the shape (*Batch Size*, *num_outputs*). Shortcut option: you can use classes from the [TensorFlow Layers](https://www.tensorflow.org/api_docs/python/tf/layers) or [TensorFlow Layers (contrib)](https://www.tensorflow.org/api_guides/python/contrib.layers) packages for this layer. For more of a challenge, only use other TensorFlow packages.\n",
    "\n",
    "**Note:** Activation, softmax, or cross entropy should **not** be applied to this."
   ]
  },
  {
   "cell_type": "code",
   "execution_count": 18,
   "metadata": {
    "collapsed": false
   },
   "outputs": [
    {
     "name": "stdout",
     "output_type": "stream",
     "text": [
      "Tests Passed\n"
     ]
    }
   ],
   "source": [
    "def output(x_tensor, num_outputs):\n",
    "    \"\"\"\n",
    "    Apply a output layer to x_tensor using weight and bias\n",
    "    : x_tensor: A 2-D tensor where the first dimension is batch size.\n",
    "    : num_outputs: The number of output that the new tensor should be.\n",
    "    : return: A 2-D tensor where the second dimension is num_outputs.\n",
    "    \"\"\"\n",
    "    # TODO: Implement Function\n",
    "    dimension = x_tensor.get_shape().as_list()\n",
    "    shape = [dimension[-1], num_outputs]\n",
    "    weight = tf.Variable(tf.truncated_normal(shape, 0, 0.01))\n",
    "    bias = tf.Variable(tf.zeros(num_outputs))\n",
    "    return tf.add(tf.matmul(x_tensor, weight), bias)\n",
    "    \n",
    "    return None\n",
    "\n",
    "\n",
    "\"\"\"\n",
    "DON'T MODIFY ANYTHING IN THIS CELL THAT IS BELOW THIS LINE\n",
    "\"\"\"\n",
    "tests.test_output(output)"
   ]
  },
  {
   "cell_type": "markdown",
   "metadata": {},
   "source": [
    "### Create Convolutional Model\n",
    "Implement the function `conv_net` to create a convolutional neural network model. The function takes in a batch of images, `x`, and outputs logits.  Use the layers you created above to create this model:\n",
    "\n",
    "* Apply 1, 2, or 3 Convolution and Max Pool layers\n",
    "* Apply a Flatten Layer\n",
    "* Apply 1, 2, or 3 Fully Connected Layers\n",
    "* Apply an Output Layer\n",
    "* Return the output\n",
    "* Apply [TensorFlow's Dropout](https://www.tensorflow.org/api_docs/python/tf/nn/dropout) to one or more layers in the model using `keep_prob`. "
   ]
  },
  {
   "cell_type": "code",
   "execution_count": 19,
   "metadata": {
    "collapsed": false
   },
   "outputs": [
    {
     "name": "stdout",
     "output_type": "stream",
     "text": [
      "Neural Network Built!\n"
     ]
    }
   ],
   "source": [
    "def conv_net(x, keep_prob):\n",
    "    \"\"\"\n",
    "    Create a convolutional neural network model\n",
    "    : x: Placeholder tensor that holds image data.\n",
    "    : keep_prob: Placeholder tensor that hold dropout keep probability.\n",
    "    : return: Tensor that represents logits\n",
    "    \"\"\"\n",
    "    # TODO: Apply 1, 2, or 3 Convolution and Max Pool layers\n",
    "    #    Play around with different number of outputs, kernel size and stride\n",
    "    # Function Definition from Above:\n",
    "           #conv2d_maxpool(x_tensor, conv_num_outputs, conv_ksize, \n",
    "           #                 conv_strides, pool_ksize, pool_strides)\n",
    "    layer = conv2d_maxpool(x, 20, (4,4),\n",
    "                           (2,2),(6,6),(2,2))\n",
    "    \n",
    "    layer = tf.nn.dropout(layer, keep_prob)\n",
    "\n",
    "    # TODO: Apply a Flatten Layer\n",
    "    # Function Definition from Above:\n",
    "    #   flatten(x_tensor)\n",
    "    layer = flatten(layer)\n",
    "\n",
    "    # TODO: Apply 1, 2, or 3 Fully Connected Layers\n",
    "    #    Play around with different number of outputs\n",
    "    # Function Definition from Above:\n",
    "    #   fully_conn(x_tensor, num_outputs)\n",
    "    layer = fully_conn(layer, 300)\n",
    "    layer = tf.nn.dropout(layer, keep_prob)\n",
    "    \n",
    "    # TODO: Apply an Output Layer\n",
    "    #    Set this to the number of classes\n",
    "    # Function Definition from Above:\n",
    "    #   output(x_tensor, num_outputs)\n",
    "    cnn_Output = output(layer, 10)\n",
    "    \n",
    "    # TODO: return output\n",
    "    return cnn_Output\n",
    "\n",
    "\n",
    "\"\"\"\n",
    "DON'T MODIFY ANYTHING IN THIS CELL THAT IS BELOW THIS LINE\n",
    "\"\"\"\n",
    "\n",
    "##############################\n",
    "## Build the Neural Network ##\n",
    "##############################\n",
    "\n",
    "# Remove previous weights, bias, inputs, etc..\n",
    "tf.reset_default_graph()\n",
    "\n",
    "# Inputs\n",
    "x = neural_net_image_input((32, 32, 3))\n",
    "y = neural_net_label_input(10)\n",
    "keep_prob = neural_net_keep_prob_input()\n",
    "\n",
    "# Model\n",
    "logits = conv_net(x, keep_prob)\n",
    "\n",
    "# Name logits Tensor, so that is can be loaded from disk after training\n",
    "logits = tf.identity(logits, name='logits')\n",
    "\n",
    "# Loss and Optimizer\n",
    "cost = tf.reduce_mean(tf.nn.softmax_cross_entropy_with_logits(logits=logits, labels=y))\n",
    "optimizer = tf.train.AdamOptimizer().minimize(cost)\n",
    "\n",
    "# Accuracy\n",
    "correct_pred = tf.equal(tf.argmax(logits, 1), tf.argmax(y, 1))\n",
    "accuracy = tf.reduce_mean(tf.cast(correct_pred, tf.float32), name='accuracy')\n",
    "\n",
    "tests.test_conv_net(conv_net)"
   ]
  },
  {
   "cell_type": "markdown",
   "metadata": {},
   "source": [
    "## Train the Neural Network\n",
    "### Single Optimization\n",
    "Implement the function `train_neural_network` to do a single optimization.  The optimization should use `optimizer` to optimize in `session` with a `feed_dict` of the following:\n",
    "* `x` for image input\n",
    "* `y` for labels\n",
    "* `keep_prob` for keep probability for dropout\n",
    "\n",
    "This function will be called for each batch, so `tf.global_variables_initializer()` has already been called.\n",
    "\n",
    "Note: Nothing needs to be returned. This function is only optimizing the neural network."
   ]
  },
  {
   "cell_type": "code",
   "execution_count": 20,
   "metadata": {
    "collapsed": false
   },
   "outputs": [
    {
     "name": "stdout",
     "output_type": "stream",
     "text": [
      "Tests Passed\n"
     ]
    }
   ],
   "source": [
    "def train_neural_network(session, optimizer, keep_probability, feature_batch, label_batch):\n",
    "    \"\"\"\n",
    "    Optimize the session on a batch of images and labels\n",
    "    : session: Current TensorFlow session\n",
    "    : optimizer: TensorFlow optimizer function\n",
    "    : keep_probability: keep probability\n",
    "    : feature_batch: Batch of Numpy image data\n",
    "    : label_batch: Batch of Numpy label data\n",
    "    \"\"\"\n",
    "    # TODO: Implement Function\n",
    "    session.run(optimizer, feed_dict={x: feature_batch,\n",
    "                                     y: label_batch,\n",
    "                                     keep_prob: keep_probability})\n",
    "    pass\n",
    "\"\"\"\n",
    "DON'T MODIFY ANYTHING IN THIS CELL THAT IS BELOW THIS LINE\n",
    "\"\"\"\n",
    "tests.test_train_nn(train_neural_network)"
   ]
  },
  {
   "cell_type": "markdown",
   "metadata": {},
   "source": [
    "### Show Stats\n",
    "Implement the function `print_stats` to print loss and validation accuracy.  Use the global variables `valid_features` and `valid_labels` to calculate validation accuracy.  Use a keep probability of `1.0` to calculate the loss and validation accuracy."
   ]
  },
  {
   "cell_type": "code",
   "execution_count": 21,
   "metadata": {
    "collapsed": false
   },
   "outputs": [],
   "source": [
    "def print_stats(session, feature_batch, label_batch, cost, accuracy):\n",
    "    \"\"\"\n",
    "    Print information about loss and validation accuracy\n",
    "    : session: Current TensorFlow session\n",
    "    : feature_batch: Batch of Numpy image data\n",
    "    : label_batch: Batch of Numpy label data\n",
    "    : cost: TensorFlow cost function\n",
    "    : accuracy: TensorFlow accuracy function\n",
    "    \n",
    "    valid_acc = sess.run(accuracy, feed_dict={\n",
    "                x: mnist.validation.images[:test_valid_size],\n",
    "                y: mnist.validation.labels[:test_valid_size],\n",
    "                keep_prob: 1.})\n",
    "    \n",
    "    # Load the Preprocessed Validation data\n",
    "    # the validation features are a global variable outside of this function.. grrr.\n",
    "    valid_features, valid_labels = pickle.load(open('preprocess_validation.p', mode='rb'))\n",
    "    \"\"\"\n",
    "    # TODO: Implement Function\n",
    "    loss = session.run(cost, feed_dict={\n",
    "                x: feature_batch,\n",
    "                y: label_batch,\n",
    "                keep_prob: 1.})\n",
    "    valid_acc = sess.run(accuracy, feed_dict={\n",
    "                x: valid_features,\n",
    "                y: valid_labels,\n",
    "                keep_prob: 1.})\n",
    "    \n",
    "    print(\"Loss value: \", loss, \"   Validation Accuracy: \",valid_acc)\n",
    "    \n",
    "    "
   ]
  },
  {
   "cell_type": "markdown",
   "metadata": {},
   "source": [
    "### Hyperparameters\n",
    "Tune the following parameters:\n",
    "* Set `epochs` to the number of iterations until the network stops learning or start overfitting\n",
    "* Set `batch_size` to the highest number that your machine has memory for.  Most people set them to common sizes of memory:\n",
    " * 64\n",
    " * 128\n",
    " * 256\n",
    " * ...\n",
    "* Set `keep_probability` to the probability of keeping a node using dropout"
   ]
  },
  {
   "cell_type": "code",
   "execution_count": 22,
   "metadata": {
    "collapsed": true
   },
   "outputs": [],
   "source": [
    "# TODO: Tune Parameters\n",
    "epochs = 50\n",
    "batch_size = 5\n",
    "keep_probability = 0.75"
   ]
  },
  {
   "cell_type": "markdown",
   "metadata": {},
   "source": [
    "### Train on a Single CIFAR-10 Batch\n",
    "Instead of training the neural network on all the CIFAR-10 batches of data, let's use a single batch. This should save time while you iterate on the model to get a better accuracy.  Once the final validation accuracy is 50% or greater, run the model on all the data in the next section."
   ]
  },
  {
   "cell_type": "code",
   "execution_count": 23,
   "metadata": {
    "collapsed": false
   },
   "outputs": [
    {
     "name": "stdout",
     "output_type": "stream",
     "text": [
      "Checking the Training on a Single Batch...\n",
      "Epoch  1, CIFAR-10 Batch 1:  Loss value:  1.88866    Validation Accuracy:  0.3468\n",
      "Epoch  2, CIFAR-10 Batch 1:  Loss value:  1.78112    Validation Accuracy:  0.399\n",
      "Epoch  3, CIFAR-10 Batch 1:  Loss value:  1.56636    Validation Accuracy:  0.4442\n",
      "Epoch  4, CIFAR-10 Batch 1:  Loss value:  1.4055    Validation Accuracy:  0.4616\n",
      "Epoch  5, CIFAR-10 Batch 1:  Loss value:  1.47591    Validation Accuracy:  0.4734\n",
      "Epoch  6, CIFAR-10 Batch 1:  Loss value:  1.44267    Validation Accuracy:  0.4766\n",
      "Epoch  7, CIFAR-10 Batch 1:  Loss value:  1.56408    Validation Accuracy:  0.4884\n",
      "Epoch  8, CIFAR-10 Batch 1:  Loss value:  1.54599    Validation Accuracy:  0.4902\n",
      "Epoch  9, CIFAR-10 Batch 1:  Loss value:  1.48056    Validation Accuracy:  0.4788\n",
      "Epoch 10, CIFAR-10 Batch 1:  Loss value:  1.42786    Validation Accuracy:  0.4914\n",
      "Epoch 11, CIFAR-10 Batch 1:  Loss value:  1.42378    Validation Accuracy:  0.4992\n",
      "Epoch 12, CIFAR-10 Batch 1:  Loss value:  1.30826    Validation Accuracy:  0.5004\n",
      "Epoch 13, CIFAR-10 Batch 1:  Loss value:  1.50413    Validation Accuracy:  0.4958\n",
      "Epoch 14, CIFAR-10 Batch 1:  Loss value:  1.36501    Validation Accuracy:  0.4944\n",
      "Epoch 15, CIFAR-10 Batch 1:  Loss value:  1.37524    Validation Accuracy:  0.4972\n",
      "Epoch 16, CIFAR-10 Batch 1:  Loss value:  1.22575    Validation Accuracy:  0.5072\n",
      "Epoch 17, CIFAR-10 Batch 1:  Loss value:  1.35223    Validation Accuracy:  0.5082\n",
      "Epoch 18, CIFAR-10 Batch 1:  Loss value:  1.14739    Validation Accuracy:  0.5184\n",
      "Epoch 19, CIFAR-10 Batch 1:  Loss value:  1.21278    Validation Accuracy:  0.514\n",
      "Epoch 20, CIFAR-10 Batch 1:  Loss value:  1.08872    Validation Accuracy:  0.5014\n",
      "Epoch 21, CIFAR-10 Batch 1:  Loss value:  0.995444    Validation Accuracy:  0.5116\n",
      "Epoch 22, CIFAR-10 Batch 1:  Loss value:  1.04948    Validation Accuracy:  0.51\n",
      "Epoch 23, CIFAR-10 Batch 1:  Loss value:  0.955021    Validation Accuracy:  0.5116\n",
      "Epoch 24, CIFAR-10 Batch 1:  Loss value:  0.960138    Validation Accuracy:  0.5218\n",
      "Epoch 25, CIFAR-10 Batch 1:  Loss value:  1.10306    Validation Accuracy:  0.515\n",
      "Epoch 26, CIFAR-10 Batch 1:  Loss value:  1.00745    Validation Accuracy:  0.5166\n",
      "Epoch 27, CIFAR-10 Batch 1:  Loss value:  0.995524    Validation Accuracy:  0.5208\n",
      "Epoch 28, CIFAR-10 Batch 1:  Loss value:  0.934408    Validation Accuracy:  0.5296\n",
      "Epoch 29, CIFAR-10 Batch 1:  Loss value:  1.08491    Validation Accuracy:  0.5196\n",
      "Epoch 30, CIFAR-10 Batch 1:  Loss value:  1.18003    Validation Accuracy:  0.5106\n",
      "Epoch 31, CIFAR-10 Batch 1:  Loss value:  1.1889    Validation Accuracy:  0.5272\n",
      "Epoch 32, CIFAR-10 Batch 1:  Loss value:  1.04887    Validation Accuracy:  0.5278\n",
      "Epoch 33, CIFAR-10 Batch 1:  Loss value:  1.09553    Validation Accuracy:  0.518\n",
      "Epoch 34, CIFAR-10 Batch 1:  Loss value:  1.21298    Validation Accuracy:  0.5254\n",
      "Epoch 35, CIFAR-10 Batch 1:  Loss value:  1.15868    Validation Accuracy:  0.5234\n",
      "Epoch 36, CIFAR-10 Batch 1:  Loss value:  1.19426    Validation Accuracy:  0.5276\n",
      "Epoch 37, CIFAR-10 Batch 1:  Loss value:  1.06595    Validation Accuracy:  0.5242\n",
      "Epoch 38, CIFAR-10 Batch 1:  Loss value:  0.939939    Validation Accuracy:  0.531\n",
      "Epoch 39, CIFAR-10 Batch 1:  Loss value:  1.05319    Validation Accuracy:  0.5274\n",
      "Epoch 40, CIFAR-10 Batch 1:  Loss value:  1.05717    Validation Accuracy:  0.5282\n",
      "Epoch 41, CIFAR-10 Batch 1:  Loss value:  1.06781    Validation Accuracy:  0.5192\n",
      "Epoch 42, CIFAR-10 Batch 1:  Loss value:  0.886859    Validation Accuracy:  0.5276\n",
      "Epoch 43, CIFAR-10 Batch 1:  Loss value:  0.861125    Validation Accuracy:  0.5202\n",
      "Epoch 44, CIFAR-10 Batch 1:  Loss value:  0.841407    Validation Accuracy:  0.513\n",
      "Epoch 45, CIFAR-10 Batch 1:  Loss value:  0.893619    Validation Accuracy:  0.5142\n",
      "Epoch 46, CIFAR-10 Batch 1:  Loss value:  0.988919    Validation Accuracy:  0.5118\n",
      "Epoch 47, CIFAR-10 Batch 1:  Loss value:  0.868461    Validation Accuracy:  0.513\n",
      "Epoch 48, CIFAR-10 Batch 1:  Loss value:  0.755984    Validation Accuracy:  0.5048\n",
      "Epoch 49, CIFAR-10 Batch 1:  Loss value:  1.00051    Validation Accuracy:  0.5096\n",
      "Epoch 50, CIFAR-10 Batch 1:  Loss value:  0.976741    Validation Accuracy:  0.525\n"
     ]
    }
   ],
   "source": [
    "\"\"\"\n",
    "DON'T MODIFY ANYTHING IN THIS CELL\n",
    "\"\"\"\n",
    "print('Checking the Training on a Single Batch...')\n",
    "with tf.Session() as sess:\n",
    "    # Initializing the variables\n",
    "    sess.run(tf.global_variables_initializer())\n",
    "    \n",
    "    # Training cycle\n",
    "    for epoch in range(epochs):\n",
    "        batch_i = 1\n",
    "        for batch_features, batch_labels in helper.load_preprocess_training_batch(batch_i, batch_size):\n",
    "            train_neural_network(sess, optimizer, keep_probability, batch_features, batch_labels)\n",
    "        print('Epoch {:>2}, CIFAR-10 Batch {}:  '.format(epoch + 1, batch_i), end='')\n",
    "        print_stats(sess, batch_features, batch_labels, cost, accuracy)\n",
    "        "
   ]
  },
  {
   "cell_type": "markdown",
   "metadata": {},
   "source": [
    "### Fully Train the Model\n",
    "Now that you got a good accuracy with a single CIFAR-10 batch, try it with all five batches."
   ]
  },
  {
   "cell_type": "code",
   "execution_count": 24,
   "metadata": {
    "collapsed": false
   },
   "outputs": [
    {
     "name": "stdout",
     "output_type": "stream",
     "text": [
      "Training...\n",
      "Epoch  1, CIFAR-10 Batch 1:  Loss value:  1.854    Validation Accuracy:  0.3958\n",
      "Epoch  1, CIFAR-10 Batch 2:  Loss value:  2.15604    Validation Accuracy:  0.4114\n",
      "Epoch  1, CIFAR-10 Batch 3:  Loss value:  1.368    Validation Accuracy:  0.4374\n",
      "Epoch  1, CIFAR-10 Batch 4:  Loss value:  1.3901    Validation Accuracy:  0.485\n",
      "Epoch  1, CIFAR-10 Batch 5:  Loss value:  1.4883    Validation Accuracy:  0.48\n",
      "Epoch  2, CIFAR-10 Batch 1:  Loss value:  1.6319    Validation Accuracy:  0.4948\n",
      "Epoch  2, CIFAR-10 Batch 2:  Loss value:  1.99098    Validation Accuracy:  0.4922\n",
      "Epoch  2, CIFAR-10 Batch 3:  Loss value:  1.16662    Validation Accuracy:  0.506\n",
      "Epoch  2, CIFAR-10 Batch 4:  Loss value:  1.25555    Validation Accuracy:  0.514\n",
      "Epoch  2, CIFAR-10 Batch 5:  Loss value:  1.25391    Validation Accuracy:  0.5204\n",
      "Epoch  3, CIFAR-10 Batch 1:  Loss value:  1.57836    Validation Accuracy:  0.5198\n",
      "Epoch  3, CIFAR-10 Batch 2:  Loss value:  2.09045    Validation Accuracy:  0.5058\n",
      "Epoch  3, CIFAR-10 Batch 3:  Loss value:  1.05435    Validation Accuracy:  0.5288\n",
      "Epoch  3, CIFAR-10 Batch 4:  Loss value:  1.34361    Validation Accuracy:  0.5248\n",
      "Epoch  3, CIFAR-10 Batch 5:  Loss value:  1.14181    Validation Accuracy:  0.5126\n",
      "Epoch  4, CIFAR-10 Batch 1:  Loss value:  1.38311    Validation Accuracy:  0.5388\n",
      "Epoch  4, CIFAR-10 Batch 2:  Loss value:  1.79309    Validation Accuracy:  0.5226\n",
      "Epoch  4, CIFAR-10 Batch 3:  Loss value:  1.23106    Validation Accuracy:  0.5432\n",
      "Epoch  4, CIFAR-10 Batch 4:  Loss value:  1.21763    Validation Accuracy:  0.5438\n",
      "Epoch  4, CIFAR-10 Batch 5:  Loss value:  1.14323    Validation Accuracy:  0.5522\n",
      "Epoch  5, CIFAR-10 Batch 1:  Loss value:  1.48925    Validation Accuracy:  0.544\n",
      "Epoch  5, CIFAR-10 Batch 2:  Loss value:  1.82111    Validation Accuracy:  0.5308\n",
      "Epoch  5, CIFAR-10 Batch 3:  Loss value:  1.23756    Validation Accuracy:  0.55\n",
      "Epoch  5, CIFAR-10 Batch 4:  Loss value:  1.242    Validation Accuracy:  0.5472\n",
      "Epoch  5, CIFAR-10 Batch 5:  Loss value:  1.26326    Validation Accuracy:  0.5492\n",
      "Epoch  6, CIFAR-10 Batch 1:  Loss value:  1.34775    Validation Accuracy:  0.5534\n",
      "Epoch  6, CIFAR-10 Batch 2:  Loss value:  1.65334    Validation Accuracy:  0.5474\n",
      "Epoch  6, CIFAR-10 Batch 3:  Loss value:  1.20635    Validation Accuracy:  0.556\n",
      "Epoch  6, CIFAR-10 Batch 4:  Loss value:  1.25909    Validation Accuracy:  0.5548\n",
      "Epoch  6, CIFAR-10 Batch 5:  Loss value:  1.22061    Validation Accuracy:  0.5416\n",
      "Epoch  7, CIFAR-10 Batch 1:  Loss value:  1.38567    Validation Accuracy:  0.5486\n",
      "Epoch  7, CIFAR-10 Batch 2:  Loss value:  1.50473    Validation Accuracy:  0.5468\n",
      "Epoch  7, CIFAR-10 Batch 3:  Loss value:  1.23205    Validation Accuracy:  0.5452\n",
      "Epoch  7, CIFAR-10 Batch 4:  Loss value:  1.0498    Validation Accuracy:  0.5566\n",
      "Epoch  7, CIFAR-10 Batch 5:  Loss value:  1.16357    Validation Accuracy:  0.5562\n",
      "Epoch  8, CIFAR-10 Batch 1:  Loss value:  1.25647    Validation Accuracy:  0.5566\n",
      "Epoch  8, CIFAR-10 Batch 2:  Loss value:  1.7727    Validation Accuracy:  0.5398\n",
      "Epoch  8, CIFAR-10 Batch 3:  Loss value:  0.858232    Validation Accuracy:  0.562\n",
      "Epoch  8, CIFAR-10 Batch 4:  Loss value:  1.01406    Validation Accuracy:  0.5634\n",
      "Epoch  8, CIFAR-10 Batch 5:  Loss value:  1.20799    Validation Accuracy:  0.546\n",
      "Epoch  9, CIFAR-10 Batch 1:  Loss value:  1.11773    Validation Accuracy:  0.5766\n",
      "Epoch  9, CIFAR-10 Batch 2:  Loss value:  1.41842    Validation Accuracy:  0.5566\n",
      "Epoch  9, CIFAR-10 Batch 3:  Loss value:  0.969615    Validation Accuracy:  0.5574\n",
      "Epoch  9, CIFAR-10 Batch 4:  Loss value:  1.14485    Validation Accuracy:  0.569\n",
      "Epoch  9, CIFAR-10 Batch 5:  Loss value:  1.08888    Validation Accuracy:  0.5524\n",
      "Epoch 10, CIFAR-10 Batch 1:  Loss value:  1.20384    Validation Accuracy:  0.5672\n",
      "Epoch 10, CIFAR-10 Batch 2:  Loss value:  1.58423    Validation Accuracy:  0.5526\n",
      "Epoch 10, CIFAR-10 Batch 3:  Loss value:  0.953845    Validation Accuracy:  0.566\n",
      "Epoch 10, CIFAR-10 Batch 4:  Loss value:  0.969862    Validation Accuracy:  0.5778\n",
      "Epoch 10, CIFAR-10 Batch 5:  Loss value:  1.12666    Validation Accuracy:  0.5656\n",
      "Epoch 11, CIFAR-10 Batch 1:  Loss value:  1.27785    Validation Accuracy:  0.5734\n",
      "Epoch 11, CIFAR-10 Batch 2:  Loss value:  1.40104    Validation Accuracy:  0.5566\n",
      "Epoch 11, CIFAR-10 Batch 3:  Loss value:  0.990137    Validation Accuracy:  0.5766\n",
      "Epoch 11, CIFAR-10 Batch 4:  Loss value:  0.876975    Validation Accuracy:  0.57\n",
      "Epoch 11, CIFAR-10 Batch 5:  Loss value:  1.17482    Validation Accuracy:  0.5632\n",
      "Epoch 12, CIFAR-10 Batch 1:  Loss value:  1.12013    Validation Accuracy:  0.5734\n",
      "Epoch 12, CIFAR-10 Batch 2:  Loss value:  1.33861    Validation Accuracy:  0.5724\n",
      "Epoch 12, CIFAR-10 Batch 3:  Loss value:  1.112    Validation Accuracy:  0.5786\n",
      "Epoch 12, CIFAR-10 Batch 4:  Loss value:  0.819842    Validation Accuracy:  0.5824\n",
      "Epoch 12, CIFAR-10 Batch 5:  Loss value:  1.1918    Validation Accuracy:  0.5514\n",
      "Epoch 13, CIFAR-10 Batch 1:  Loss value:  1.37663    Validation Accuracy:  0.5792\n",
      "Epoch 13, CIFAR-10 Batch 2:  Loss value:  1.60615    Validation Accuracy:  0.5468\n",
      "Epoch 13, CIFAR-10 Batch 3:  Loss value:  1.01909    Validation Accuracy:  0.583\n",
      "Epoch 13, CIFAR-10 Batch 4:  Loss value:  0.682925    Validation Accuracy:  0.5904\n",
      "Epoch 13, CIFAR-10 Batch 5:  Loss value:  0.929141    Validation Accuracy:  0.5794\n",
      "Epoch 14, CIFAR-10 Batch 1:  Loss value:  1.15218    Validation Accuracy:  0.588\n",
      "Epoch 14, CIFAR-10 Batch 2:  Loss value:  1.29234    Validation Accuracy:  0.5728\n",
      "Epoch 14, CIFAR-10 Batch 3:  Loss value:  1.11037    Validation Accuracy:  0.5772\n",
      "Epoch 14, CIFAR-10 Batch 4:  Loss value:  0.937716    Validation Accuracy:  0.5878\n",
      "Epoch 14, CIFAR-10 Batch 5:  Loss value:  1.06774    Validation Accuracy:  0.5666\n",
      "Epoch 15, CIFAR-10 Batch 1:  Loss value:  1.12908    Validation Accuracy:  0.5776\n",
      "Epoch 15, CIFAR-10 Batch 2:  Loss value:  1.31227    Validation Accuracy:  0.5728\n",
      "Epoch 15, CIFAR-10 Batch 3:  Loss value:  0.720222    Validation Accuracy:  0.5904\n",
      "Epoch 15, CIFAR-10 Batch 4:  Loss value:  0.974294    Validation Accuracy:  0.5966\n",
      "Epoch 15, CIFAR-10 Batch 5:  Loss value:  1.1139    Validation Accuracy:  0.575\n",
      "Epoch 16, CIFAR-10 Batch 1:  Loss value:  1.20473    Validation Accuracy:  0.5872\n",
      "Epoch 16, CIFAR-10 Batch 2:  Loss value:  1.24689    Validation Accuracy:  0.5612\n",
      "Epoch 16, CIFAR-10 Batch 3:  Loss value:  0.865998    Validation Accuracy:  0.5816\n",
      "Epoch 16, CIFAR-10 Batch 4:  Loss value:  0.861811    Validation Accuracy:  0.5894\n",
      "Epoch 16, CIFAR-10 Batch 5:  Loss value:  1.26534    Validation Accuracy:  0.5724\n",
      "Epoch 17, CIFAR-10 Batch 1:  Loss value:  1.11383    Validation Accuracy:  0.5932\n",
      "Epoch 17, CIFAR-10 Batch 2:  Loss value:  1.6752    Validation Accuracy:  0.5788\n",
      "Epoch 17, CIFAR-10 Batch 3:  Loss value:  1.05697    Validation Accuracy:  0.5906\n",
      "Epoch 17, CIFAR-10 Batch 4:  Loss value:  0.736003    Validation Accuracy:  0.5888\n",
      "Epoch 17, CIFAR-10 Batch 5:  Loss value:  1.16452    Validation Accuracy:  0.5866\n",
      "Epoch 18, CIFAR-10 Batch 1:  Loss value:  1.14762    Validation Accuracy:  0.5904\n",
      "Epoch 18, CIFAR-10 Batch 2:  Loss value:  1.48637    Validation Accuracy:  0.583\n",
      "Epoch 18, CIFAR-10 Batch 3:  Loss value:  0.907091    Validation Accuracy:  0.5798\n",
      "Epoch 18, CIFAR-10 Batch 4:  Loss value:  0.707153    Validation Accuracy:  0.5856\n",
      "Epoch 18, CIFAR-10 Batch 5:  Loss value:  1.27634    Validation Accuracy:  0.5732\n",
      "Epoch 19, CIFAR-10 Batch 1:  Loss value:  1.07391    Validation Accuracy:  0.597\n",
      "Epoch 19, CIFAR-10 Batch 2:  Loss value:  1.27047    Validation Accuracy:  0.5904\n",
      "Epoch 19, CIFAR-10 Batch 3:  Loss value:  0.922375    Validation Accuracy:  0.5918\n",
      "Epoch 19, CIFAR-10 Batch 4:  Loss value:  0.780469    Validation Accuracy:  0.5968\n",
      "Epoch 19, CIFAR-10 Batch 5:  Loss value:  1.13498    Validation Accuracy:  0.583\n",
      "Epoch 20, CIFAR-10 Batch 1:  Loss value:  1.32619    Validation Accuracy:  0.5894\n",
      "Epoch 20, CIFAR-10 Batch 2:  Loss value:  1.49818    Validation Accuracy:  0.5718\n",
      "Epoch 20, CIFAR-10 Batch 3:  Loss value:  0.960149    Validation Accuracy:  0.5892\n",
      "Epoch 20, CIFAR-10 Batch 4:  Loss value:  0.666708    Validation Accuracy:  0.599\n",
      "Epoch 20, CIFAR-10 Batch 5:  Loss value:  1.17158    Validation Accuracy:  0.574\n",
      "Epoch 21, CIFAR-10 Batch 1:  Loss value:  0.97316    Validation Accuracy:  0.5836\n",
      "Epoch 21, CIFAR-10 Batch 2:  Loss value:  1.64998    Validation Accuracy:  0.5782\n",
      "Epoch 21, CIFAR-10 Batch 3:  Loss value:  0.94786    Validation Accuracy:  0.5934\n",
      "Epoch 21, CIFAR-10 Batch 4:  Loss value:  0.685049    Validation Accuracy:  0.5864\n",
      "Epoch 21, CIFAR-10 Batch 5:  Loss value:  1.06347    Validation Accuracy:  0.569\n",
      "Epoch 22, CIFAR-10 Batch 1:  Loss value:  0.983193    Validation Accuracy:  0.5776\n",
      "Epoch 22, CIFAR-10 Batch 2:  Loss value:  1.50198    Validation Accuracy:  0.5772\n",
      "Epoch 22, CIFAR-10 Batch 3:  Loss value:  0.938768    Validation Accuracy:  0.5996\n",
      "Epoch 22, CIFAR-10 Batch 4:  Loss value:  0.719706    Validation Accuracy:  0.5962\n",
      "Epoch 22, CIFAR-10 Batch 5:  Loss value:  1.33881    Validation Accuracy:  0.5786\n",
      "Epoch 23, CIFAR-10 Batch 1:  Loss value:  0.878838    Validation Accuracy:  0.5972\n",
      "Epoch 23, CIFAR-10 Batch 2:  Loss value:  1.55557    Validation Accuracy:  0.5806\n",
      "Epoch 23, CIFAR-10 Batch 3:  Loss value:  0.948834    Validation Accuracy:  0.6072\n",
      "Epoch 23, CIFAR-10 Batch 4:  Loss value:  0.655164    Validation Accuracy:  0.5924\n",
      "Epoch 23, CIFAR-10 Batch 5:  Loss value:  0.899772    Validation Accuracy:  0.5742\n",
      "Epoch 24, CIFAR-10 Batch 1:  Loss value:  1.32044    Validation Accuracy:  0.5862\n",
      "Epoch 24, CIFAR-10 Batch 2:  Loss value:  1.44801    Validation Accuracy:  0.5812\n",
      "Epoch 24, CIFAR-10 Batch 3:  Loss value:  0.888389    Validation Accuracy:  0.596\n",
      "Epoch 24, CIFAR-10 Batch 4:  Loss value:  0.750379    Validation Accuracy:  0.5998\n",
      "Epoch 24, CIFAR-10 Batch 5:  Loss value:  1.19921    Validation Accuracy:  0.5662\n",
      "Epoch 25, CIFAR-10 Batch 1:  Loss value:  1.00841    Validation Accuracy:  0.5926\n",
      "Epoch 25, CIFAR-10 Batch 2:  Loss value:  1.69208    Validation Accuracy:  0.5854\n",
      "Epoch 25, CIFAR-10 Batch 3:  Loss value:  0.832089    Validation Accuracy:  0.6012\n",
      "Epoch 25, CIFAR-10 Batch 4:  Loss value:  0.820123    Validation Accuracy:  0.5912\n",
      "Epoch 25, CIFAR-10 Batch 5:  Loss value:  1.1444    Validation Accuracy:  0.5758\n",
      "Epoch 26, CIFAR-10 Batch 1:  Loss value:  1.14945    Validation Accuracy:  0.5958\n",
      "Epoch 26, CIFAR-10 Batch 2:  Loss value:  1.35478    Validation Accuracy:  0.5756\n",
      "Epoch 26, CIFAR-10 Batch 3:  Loss value:  0.846384    Validation Accuracy:  0.602\n",
      "Epoch 26, CIFAR-10 Batch 4:  Loss value:  0.968885    Validation Accuracy:  0.603\n",
      "Epoch 26, CIFAR-10 Batch 5:  Loss value:  1.04556    Validation Accuracy:  0.5802\n",
      "Epoch 27, CIFAR-10 Batch 1:  Loss value:  1.21306    Validation Accuracy:  0.6026\n",
      "Epoch 27, CIFAR-10 Batch 2:  Loss value:  1.33559    Validation Accuracy:  0.5704\n",
      "Epoch 27, CIFAR-10 Batch 3:  Loss value:  0.863836    Validation Accuracy:  0.6034\n",
      "Epoch 27, CIFAR-10 Batch 4:  Loss value:  0.80693    Validation Accuracy:  0.6014\n",
      "Epoch 27, CIFAR-10 Batch 5:  Loss value:  1.33326    Validation Accuracy:  0.5966\n",
      "Epoch 28, CIFAR-10 Batch 1:  Loss value:  1.0732    Validation Accuracy:  0.5762\n",
      "Epoch 28, CIFAR-10 Batch 2:  Loss value:  1.27561    Validation Accuracy:  0.5872\n",
      "Epoch 28, CIFAR-10 Batch 3:  Loss value:  0.829004    Validation Accuracy:  0.6008\n",
      "Epoch 28, CIFAR-10 Batch 4:  Loss value:  0.768736    Validation Accuracy:  0.603\n",
      "Epoch 28, CIFAR-10 Batch 5:  Loss value:  1.10123    Validation Accuracy:  0.5868\n",
      "Epoch 29, CIFAR-10 Batch 1:  Loss value:  0.895785    Validation Accuracy:  0.5932\n",
      "Epoch 29, CIFAR-10 Batch 2:  Loss value:  1.25941    Validation Accuracy:  0.5744\n",
      "Epoch 29, CIFAR-10 Batch 3:  Loss value:  0.664549    Validation Accuracy:  0.5994\n",
      "Epoch 29, CIFAR-10 Batch 4:  Loss value:  0.849315    Validation Accuracy:  0.5934\n",
      "Epoch 29, CIFAR-10 Batch 5:  Loss value:  1.01167    Validation Accuracy:  0.5896\n",
      "Epoch 30, CIFAR-10 Batch 1:  Loss value:  0.969816    Validation Accuracy:  0.5742\n",
      "Epoch 30, CIFAR-10 Batch 2:  Loss value:  1.45336    Validation Accuracy:  0.5792\n",
      "Epoch 30, CIFAR-10 Batch 3:  Loss value:  0.74906    Validation Accuracy:  0.598\n",
      "Epoch 30, CIFAR-10 Batch 4:  Loss value:  0.788834    Validation Accuracy:  0.6048\n",
      "Epoch 30, CIFAR-10 Batch 5:  Loss value:  1.10277    Validation Accuracy:  0.5858\n",
      "Epoch 31, CIFAR-10 Batch 1:  Loss value:  1.08641    Validation Accuracy:  0.5936\n",
      "Epoch 31, CIFAR-10 Batch 2:  Loss value:  1.3287    Validation Accuracy:  0.5838\n",
      "Epoch 31, CIFAR-10 Batch 3:  Loss value:  0.872055    Validation Accuracy:  0.5986\n",
      "Epoch 31, CIFAR-10 Batch 4:  Loss value:  0.699594    Validation Accuracy:  0.5976\n",
      "Epoch 31, CIFAR-10 Batch 5:  Loss value:  0.926132    Validation Accuracy:  0.585\n",
      "Epoch 32, CIFAR-10 Batch 1:  Loss value:  1.10998    Validation Accuracy:  0.5844\n",
      "Epoch 32, CIFAR-10 Batch 2:  Loss value:  1.63114    Validation Accuracy:  0.6034\n",
      "Epoch 32, CIFAR-10 Batch 3:  Loss value:  0.736564    Validation Accuracy:  0.5958\n",
      "Epoch 32, CIFAR-10 Batch 4:  Loss value:  0.817864    Validation Accuracy:  0.5944\n",
      "Epoch 32, CIFAR-10 Batch 5:  Loss value:  0.846868    Validation Accuracy:  0.585\n",
      "Epoch 33, CIFAR-10 Batch 1:  Loss value:  0.86422    Validation Accuracy:  0.5938\n",
      "Epoch 33, CIFAR-10 Batch 2:  Loss value:  1.62876    Validation Accuracy:  0.5946\n",
      "Epoch 33, CIFAR-10 Batch 3:  Loss value:  0.75738    Validation Accuracy:  0.6036\n",
      "Epoch 33, CIFAR-10 Batch 4:  Loss value:  0.854189    Validation Accuracy:  0.5986\n",
      "Epoch 33, CIFAR-10 Batch 5:  Loss value:  1.02741    Validation Accuracy:  0.6026\n",
      "Epoch 34, CIFAR-10 Batch 1:  Loss value:  0.850242    Validation Accuracy:  0.6076\n",
      "Epoch 34, CIFAR-10 Batch 2:  Loss value:  1.39848    Validation Accuracy:  0.5906\n",
      "Epoch 34, CIFAR-10 Batch 3:  Loss value:  0.781978    Validation Accuracy:  0.5966\n",
      "Epoch 34, CIFAR-10 Batch 4:  Loss value:  0.736894    Validation Accuracy:  0.603\n",
      "Epoch 34, CIFAR-10 Batch 5:  Loss value:  0.8976    Validation Accuracy:  0.5874\n",
      "Epoch 35, CIFAR-10 Batch 1:  Loss value:  0.948548    Validation Accuracy:  0.5926\n",
      "Epoch 35, CIFAR-10 Batch 2:  Loss value:  1.32142    Validation Accuracy:  0.5808\n",
      "Epoch 35, CIFAR-10 Batch 3:  Loss value:  0.793603    Validation Accuracy:  0.6022\n",
      "Epoch 35, CIFAR-10 Batch 4:  Loss value:  0.814525    Validation Accuracy:  0.6058\n",
      "Epoch 35, CIFAR-10 Batch 5:  Loss value:  0.876691    Validation Accuracy:  0.5998\n",
      "Epoch 36, CIFAR-10 Batch 1:  Loss value:  0.969185    Validation Accuracy:  0.5934\n",
      "Epoch 36, CIFAR-10 Batch 2:  Loss value:  1.74092    Validation Accuracy:  0.5968\n",
      "Epoch 36, CIFAR-10 Batch 3:  Loss value:  0.919561    Validation Accuracy:  0.5998\n",
      "Epoch 36, CIFAR-10 Batch 4:  Loss value:  0.777619    Validation Accuracy:  0.5932\n",
      "Epoch 36, CIFAR-10 Batch 5:  Loss value:  1.01364    Validation Accuracy:  0.5912\n",
      "Epoch 37, CIFAR-10 Batch 1:  Loss value:  0.81096    Validation Accuracy:  0.6022\n",
      "Epoch 37, CIFAR-10 Batch 2:  Loss value:  1.25602    Validation Accuracy:  0.5922\n",
      "Epoch 37, CIFAR-10 Batch 3:  Loss value:  0.607657    Validation Accuracy:  0.5958\n",
      "Epoch 37, CIFAR-10 Batch 4:  Loss value:  0.835176    Validation Accuracy:  0.6006\n",
      "Epoch 37, CIFAR-10 Batch 5:  Loss value:  0.926349    Validation Accuracy:  0.588\n",
      "Epoch 38, CIFAR-10 Batch 1:  Loss value:  1.28946    Validation Accuracy:  0.6014\n",
      "Epoch 38, CIFAR-10 Batch 2:  Loss value:  1.19684    Validation Accuracy:  0.5814\n",
      "Epoch 38, CIFAR-10 Batch 3:  Loss value:  0.902093    Validation Accuracy:  0.6098\n",
      "Epoch 38, CIFAR-10 Batch 4:  Loss value:  0.629733    Validation Accuracy:  0.6058\n",
      "Epoch 38, CIFAR-10 Batch 5:  Loss value:  0.983303    Validation Accuracy:  0.5992\n",
      "Epoch 39, CIFAR-10 Batch 1:  Loss value:  1.02529    Validation Accuracy:  0.6094\n",
      "Epoch 39, CIFAR-10 Batch 2:  Loss value:  1.71253    Validation Accuracy:  0.6014\n",
      "Epoch 39, CIFAR-10 Batch 3:  Loss value:  0.889984    Validation Accuracy:  0.605\n",
      "Epoch 39, CIFAR-10 Batch 4:  Loss value:  0.935541    Validation Accuracy:  0.6006\n",
      "Epoch 39, CIFAR-10 Batch 5:  Loss value:  1.08346    Validation Accuracy:  0.5964\n",
      "Epoch 40, CIFAR-10 Batch 1:  Loss value:  0.887144    Validation Accuracy:  0.6046\n",
      "Epoch 40, CIFAR-10 Batch 2:  Loss value:  1.38364    Validation Accuracy:  0.5908\n",
      "Epoch 40, CIFAR-10 Batch 3:  Loss value:  0.826547    Validation Accuracy:  0.6082\n",
      "Epoch 40, CIFAR-10 Batch 4:  Loss value:  0.835426    Validation Accuracy:  0.6024\n",
      "Epoch 40, CIFAR-10 Batch 5:  Loss value:  0.948757    Validation Accuracy:  0.6072\n",
      "Epoch 41, CIFAR-10 Batch 1:  Loss value:  0.860924    Validation Accuracy:  0.6004\n",
      "Epoch 41, CIFAR-10 Batch 2:  Loss value:  1.24674    Validation Accuracy:  0.5814\n",
      "Epoch 41, CIFAR-10 Batch 3:  Loss value:  0.771064    Validation Accuracy:  0.6096\n",
      "Epoch 41, CIFAR-10 Batch 4:  Loss value:  0.809575    Validation Accuracy:  0.6102\n",
      "Epoch 41, CIFAR-10 Batch 5:  Loss value:  0.938531    Validation Accuracy:  0.6016\n",
      "Epoch 42, CIFAR-10 Batch 1:  Loss value:  0.87861    Validation Accuracy:  0.6022\n",
      "Epoch 42, CIFAR-10 Batch 2:  Loss value:  1.14946    Validation Accuracy:  0.6024\n",
      "Epoch 42, CIFAR-10 Batch 3:  Loss value:  0.842018    Validation Accuracy:  0.6074\n",
      "Epoch 42, CIFAR-10 Batch 4:  Loss value:  0.678576    Validation Accuracy:  0.6058\n",
      "Epoch 42, CIFAR-10 Batch 5:  Loss value:  1.29546    Validation Accuracy:  0.5822\n",
      "Epoch 43, CIFAR-10 Batch 1:  Loss value:  0.85833    Validation Accuracy:  0.5982\n",
      "Epoch 43, CIFAR-10 Batch 2:  Loss value:  1.14265    Validation Accuracy:  0.593\n",
      "Epoch 43, CIFAR-10 Batch 3:  Loss value:  0.833367    Validation Accuracy:  0.6118\n",
      "Epoch 43, CIFAR-10 Batch 4:  Loss value:  0.725768    Validation Accuracy:  0.6112\n",
      "Epoch 43, CIFAR-10 Batch 5:  Loss value:  1.15939    Validation Accuracy:  0.5988\n",
      "Epoch 44, CIFAR-10 Batch 1:  Loss value:  1.0116    Validation Accuracy:  0.5918\n",
      "Epoch 44, CIFAR-10 Batch 2:  Loss value:  1.02038    Validation Accuracy:  0.5996\n",
      "Epoch 44, CIFAR-10 Batch 3:  Loss value:  1.03668    Validation Accuracy:  0.6148\n",
      "Epoch 44, CIFAR-10 Batch 4:  Loss value:  0.926897    Validation Accuracy:  0.6112\n",
      "Epoch 44, CIFAR-10 Batch 5:  Loss value:  1.31342    Validation Accuracy:  0.6028\n",
      "Epoch 45, CIFAR-10 Batch 1:  Loss value:  1.0869    Validation Accuracy:  0.601\n",
      "Epoch 45, CIFAR-10 Batch 2:  Loss value:  1.11309    Validation Accuracy:  0.5968\n",
      "Epoch 45, CIFAR-10 Batch 3:  Loss value:  0.939104    Validation Accuracy:  0.6132\n",
      "Epoch 45, CIFAR-10 Batch 4:  Loss value:  0.802343    Validation Accuracy:  0.61\n",
      "Epoch 45, CIFAR-10 Batch 5:  Loss value:  1.10255    Validation Accuracy:  0.6134\n",
      "Epoch 46, CIFAR-10 Batch 1:  Loss value:  0.864535    Validation Accuracy:  0.6086\n",
      "Epoch 46, CIFAR-10 Batch 2:  Loss value:  1.19096    Validation Accuracy:  0.6022\n",
      "Epoch 46, CIFAR-10 Batch 3:  Loss value:  0.847596    Validation Accuracy:  0.608\n",
      "Epoch 46, CIFAR-10 Batch 4:  Loss value:  0.920225    Validation Accuracy:  0.6112\n",
      "Epoch 46, CIFAR-10 Batch 5:  Loss value:  1.25437    Validation Accuracy:  0.6078\n",
      "Epoch 47, CIFAR-10 Batch 1:  Loss value:  0.899717    Validation Accuracy:  0.5948\n",
      "Epoch 47, CIFAR-10 Batch 2:  Loss value:  1.54589    Validation Accuracy:  0.5986\n",
      "Epoch 47, CIFAR-10 Batch 3:  Loss value:  0.848765    Validation Accuracy:  0.6016\n",
      "Epoch 47, CIFAR-10 Batch 4:  Loss value:  0.906323    Validation Accuracy:  0.6066\n",
      "Epoch 47, CIFAR-10 Batch 5:  Loss value:  1.27338    Validation Accuracy:  0.5994\n",
      "Epoch 48, CIFAR-10 Batch 1:  Loss value:  0.789719    Validation Accuracy:  0.6026\n",
      "Epoch 48, CIFAR-10 Batch 2:  Loss value:  1.6509    Validation Accuracy:  0.6112\n",
      "Epoch 48, CIFAR-10 Batch 3:  Loss value:  0.693013    Validation Accuracy:  0.6058\n",
      "Epoch 48, CIFAR-10 Batch 4:  Loss value:  0.992345    Validation Accuracy:  0.614\n",
      "Epoch 48, CIFAR-10 Batch 5:  Loss value:  1.01557    Validation Accuracy:  0.5892\n",
      "Epoch 49, CIFAR-10 Batch 1:  Loss value:  0.988716    Validation Accuracy:  0.6084\n",
      "Epoch 49, CIFAR-10 Batch 2:  Loss value:  1.61782    Validation Accuracy:  0.606\n",
      "Epoch 49, CIFAR-10 Batch 3:  Loss value:  0.768743    Validation Accuracy:  0.607\n",
      "Epoch 49, CIFAR-10 Batch 4:  Loss value:  0.804743    Validation Accuracy:  0.6176\n",
      "Epoch 49, CIFAR-10 Batch 5:  Loss value:  1.1632    Validation Accuracy:  0.6092\n",
      "Epoch 50, CIFAR-10 Batch 1:  Loss value:  1.00219    Validation Accuracy:  0.6092\n",
      "Epoch 50, CIFAR-10 Batch 2:  Loss value:  1.15998    Validation Accuracy:  0.5962\n",
      "Epoch 50, CIFAR-10 Batch 3:  Loss value:  0.75154    Validation Accuracy:  0.616\n",
      "Epoch 50, CIFAR-10 Batch 4:  Loss value:  0.928976    Validation Accuracy:  0.6104\n",
      "Epoch 50, CIFAR-10 Batch 5:  Loss value:  1.07131    Validation Accuracy:  0.5848\n"
     ]
    }
   ],
   "source": [
    "\"\"\"\n",
    "DON'T MODIFY ANYTHING IN THIS CELL\n",
    "\"\"\"\n",
    "save_model_path = './image_classification'\n",
    "\n",
    "print('Training...')\n",
    "with tf.Session() as sess:\n",
    "    # Initializing the variables\n",
    "    sess.run(tf.global_variables_initializer())\n",
    "    \n",
    "    # Training cycle\n",
    "    for epoch in range(epochs):\n",
    "        # Loop over all batches\n",
    "        n_batches = 5\n",
    "        for batch_i in range(1, n_batches + 1):\n",
    "            for batch_features, batch_labels in helper.load_preprocess_training_batch(batch_i, batch_size):\n",
    "                train_neural_network(sess, optimizer, keep_probability, batch_features, batch_labels)\n",
    "            print('Epoch {:>2}, CIFAR-10 Batch {}:  '.format(epoch + 1, batch_i), end='')\n",
    "            print_stats(sess, batch_features, batch_labels, cost, accuracy)\n",
    "            \n",
    "    # Save Model\n",
    "    saver = tf.train.Saver()\n",
    "    save_path = saver.save(sess, save_model_path)"
   ]
  },
  {
   "cell_type": "markdown",
   "metadata": {},
   "source": [
    "# Checkpoint\n",
    "The model has been saved to disk.\n",
    "## Test Model\n",
    "Test your model against the test dataset.  This will be your final accuracy. You should have an accuracy greater than 50%. If you don't, keep tweaking the model architecture and parameters."
   ]
  },
  {
   "cell_type": "code",
   "execution_count": 25,
   "metadata": {
    "collapsed": false
   },
   "outputs": [
    {
     "name": "stdout",
     "output_type": "stream",
     "text": [
      "Testing Accuracy: 0.5887000129371881\n",
      "\n"
     ]
    },
    {
     "data": {
      "image/png": "[encoded data removed]",
      "text/plain": [
       "<matplotlib.figure.Figure at 0x1e101e395c0>"
      ]
     },
     "metadata": {
      "image/png": {
       "height": 319,
       "width": 355
      }
     },
     "output_type": "display_data"
    }
   ],
   "source": [
    "\"\"\"\n",
    "DON'T MODIFY ANYTHING IN THIS CELL\n",
    "\"\"\"\n",
    "%matplotlib inline\n",
    "%config InlineBackend.figure_format = 'retina'\n",
    "\n",
    "import tensorflow as tf\n",
    "import pickle\n",
    "import helper\n",
    "import random\n",
    "\n",
    "# Set batch size if not already set\n",
    "try:\n",
    "    if batch_size:\n",
    "        pass\n",
    "except NameError:\n",
    "    batch_size = 64\n",
    "\n",
    "save_model_path = './image_classification'\n",
    "n_samples = 4\n",
    "top_n_predictions = 3\n",
    "\n",
    "def test_model():\n",
    "    \"\"\"\n",
    "    Test the saved model against the test dataset\n",
    "    \"\"\"\n",
    "\n",
    "    test_features, test_labels = pickle.load(open('preprocess_training.p', mode='rb'))\n",
    "    loaded_graph = tf.Graph()\n",
    "\n",
    "    with tf.Session(graph=loaded_graph) as sess:\n",
    "        # Load model\n",
    "        loader = tf.train.import_meta_graph(save_model_path + '.meta')\n",
    "        loader.restore(sess, save_model_path)\n",
    "\n",
    "        # Get Tensors from loaded model\n",
    "        loaded_x = loaded_graph.get_tensor_by_name('x:0')\n",
    "        loaded_y = loaded_graph.get_tensor_by_name('y:0')\n",
    "        loaded_keep_prob = loaded_graph.get_tensor_by_name('keep_prob:0')\n",
    "        loaded_logits = loaded_graph.get_tensor_by_name('logits:0')\n",
    "        loaded_acc = loaded_graph.get_tensor_by_name('accuracy:0')\n",
    "        \n",
    "        # Get accuracy in batches for memory limitations\n",
    "        test_batch_acc_total = 0\n",
    "        test_batch_count = 0\n",
    "        \n",
    "        for train_feature_batch, train_label_batch in helper.batch_features_labels(test_features, test_labels, batch_size):\n",
    "            test_batch_acc_total += sess.run(\n",
    "                loaded_acc,\n",
    "                feed_dict={loaded_x: train_feature_batch, loaded_y: train_label_batch, loaded_keep_prob: 1.0})\n",
    "            test_batch_count += 1\n",
    "\n",
    "        print('Testing Accuracy: {}\\n'.format(test_batch_acc_total/test_batch_count))\n",
    "\n",
    "        # Print Random Samples\n",
    "        random_test_features, random_test_labels = tuple(zip(*random.sample(list(zip(test_features, test_labels)), n_samples)))\n",
    "        random_test_predictions = sess.run(\n",
    "            tf.nn.top_k(tf.nn.softmax(loaded_logits), top_n_predictions),\n",
    "            feed_dict={loaded_x: random_test_features, loaded_y: random_test_labels, loaded_keep_prob: 1.0})\n",
    "        helper.display_image_predictions(random_test_features, random_test_labels, random_test_predictions)\n",
    "\n",
    "\n",
    "test_model()"
   ]
  },
  {
   "cell_type": "markdown",
   "metadata": {},
   "source": [
    "## Why 50-80% Accuracy?\n",
    "You might be wondering why you can't get an accuracy any higher. First things first, 50% isn't bad for a simple CNN.  Pure guessing would get you 10% accuracy. However, you might notice people are getting scores [well above 80%](http://rodrigob.github.io/are_we_there_yet/build/classification_datasets_results.html#43494641522d3130).  That's because we haven't taught you all there is to know about neural networks. We still need to cover a few more techniques.\n",
    "## Submitting This Project\n",
    "When submitting this project, make sure to run all the cells before saving the notebook.  Save the notebook file as \"dlnd_image_classification.ipynb\" and save it as a HTML file under \"File\" -> \"Download as\".  Include the \"helper.py\" and \"problem_unittests.py\" files in your submission."
   ]
  },
  {
   "cell_type": "code",
   "execution_count": null,
   "metadata": {
    "collapsed": true
   },
   "outputs": [],
   "source": []
  }
 ],
 "metadata": {
  "kernelspec": {
   "display_name": "Python 3",
   "language": "python",
   "name": "python3"
  },
  "language_info": {
   "codemirror_mode": {
    "name": "ipython",
    "version": 3
   },
   "file_extension": ".py",
   "mimetype": "text/x-python",
   "name": "python",
   "nbconvert_exporter": "python",
   "pygments_lexer": "ipython3",
   "version": "3.6.0"
  }
 },
 "nbformat": 4,
 "nbformat_minor": 0
}
